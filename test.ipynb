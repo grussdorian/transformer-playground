{
 "cells": [
  {
   "cell_type": "code",
   "execution_count": 1,
   "metadata": {},
   "outputs": [
    {
     "name": "stdout",
     "output_type": "stream",
     "text": [
      "tensor([1.], device='mps:0')\n",
      "Running on MPS Device\n"
     ]
    }
   ],
   "source": [
    "import torch\n",
    "from torch.nn import functional as F\n",
    "import torch.nn as nn\n",
    "if torch.backends.mps.is_available():\n",
    "    mps_device = torch.device(\"mps\")\n",
    "    x = torch.ones(1, device=mps_device)\n",
    "    print(x)\n",
    "    print(\"Running on MPS Device\")\n",
    "else:\n",
    "    print(\"MPS device not found\")\n"
   ]
  },
  {
   "cell_type": "code",
   "execution_count": 2,
   "metadata": {},
   "outputs": [
    {
     "name": "stdout",
     "output_type": "stream",
     "text": [
      "tensor([1.], device='mps:0')\n",
      "Running on MPS Device\n",
      "hello\n"
     ]
    },
    {
     "data": {
      "text/plain": [
       "<All keys matched successfully>"
      ]
     },
     "execution_count": 2,
     "metadata": {},
     "output_type": "execute_result"
    }
   ],
   "source": [
    "from multi_headed_self_attention import BigramLanguageModel\n",
    "model = BigramLanguageModel()\n",
    "model.load_state_dict(torch.load('./saved_models/multiheaded_attention.pth'))"
   ]
  },
  {
   "cell_type": "code",
   "execution_count": 6,
   "metadata": {},
   "outputs": [
    {
     "name": "stdout",
     "output_type": "stream",
     "text": [
      "\n",
      "For ever I, calubmission to my father's daughter.\n",
      "\n",
      "RICHARD:\n",
      "My Lord of Son, young Harry Hortensio?\n",
      "\n",
      "HASTINGS:\n",
      "Froth his thought the resign, though Mortime\n",
      "Lercis my good lord, both them music now.\n",
      "I'll show my woe-weary name--How fares my son,\n",
      "I'll tell you the kar's last within twights,\n",
      "I'll grow and such city to Richard's motion,\n",
      "For you not hour'd hath be my lord's tyranny.\n",
      "\n",
      "NORTHUMBERLAND:\n",
      "Relio troy.\n",
      "\n",
      "QUEEN MARGARET:\n",
      "And here come to see: let unto my knowledge.\n",
      "\n",
      "All:\n",
      "My prince I kill duma: \n"
     ]
    }
   ],
   "source": [
    "model = model.to(mps_device)\n",
    "model.inference(n_tokens=500, device=mps_device)\n"
   ]
  }
 ],
 "metadata": {
  "kernelspec": {
   "display_name": "Python 3",
   "language": "python",
   "name": "python3"
  },
  "language_info": {
   "codemirror_mode": {
    "name": "ipython",
    "version": 3
   },
   "file_extension": ".py",
   "mimetype": "text/x-python",
   "name": "python",
   "nbconvert_exporter": "python",
   "pygments_lexer": "ipython3",
   "version": "3.9.6"
  }
 },
 "nbformat": 4,
 "nbformat_minor": 2
}
